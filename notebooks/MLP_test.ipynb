{
 "cells": [
  {
   "cell_type": "code",
   "execution_count": 126,
   "metadata": {},
   "outputs": [],
   "source": [
    "import numpy as np\n",
    "import pandas as pd\n",
    "import tensorflow as tf\n",
    "from sklearn.preprocessing import MinMaxScaler\n",
    "from sklearn.model_selection import train_test_split\n",
    "from tensorflow.keras.models import Sequential\n",
    "from tensorflow.keras.layers import LSTM, Dense, Dropout\n",
    "from tensorflow.keras.optimizers import Adam\n",
    "from sklearn.metrics import precision_score, recall_score, f1_score\n",
    "import tensorflow.keras.backend as K\n",
    "import matplotlib.pyplot as plt\n",
    "import seaborn as sns\n",
    "from tensorflow.keras.callbacks import EarlyStopping\n",
    "from sklearn.metrics import confusion_matrix\n",
    "#from imblearn.over_sampling import RandomOverSampler\n",
    "from sklearn.metrics import classification_report, precision_recall_curve"
   ]
  },
  {
   "cell_type": "code",
   "execution_count": 127,
   "metadata": {},
   "outputs": [
    {
     "name": "stderr",
     "output_type": "stream",
     "text": [
      "/tmp/ipykernel_8234/2220040279.py:7: FutureWarning: DataFrame.fillna with 'method' is deprecated and will raise in a future version. Use obj.ffill() or obj.bfill() instead.\n",
      "  df[sensor_cols] = df[sensor_cols].fillna(method='ffill')\n",
      "/tmp/ipykernel_8234/2220040279.py:8: FutureWarning: DataFrame.fillna with 'method' is deprecated and will raise in a future version. Use obj.ffill() or obj.bfill() instead.\n",
      "  df[sensor_cols] = df[sensor_cols].fillna(method='bfill')\n"
     ]
    }
   ],
   "source": [
    "df=pd.read_csv(\"../datasets/sensor.csv\")\n",
    "sensors_to_drop = ['Unnamed: 0', 'timestamp','sensor_15', 'sensor_50']\n",
    "df = df.drop(columns=sensors_to_drop)\n",
    "\n",
    "sensor_cols = df.columns[df.isnull().any()].tolist()\n",
    "df[sensor_cols] = df[sensor_cols].interpolate(method='linear')\n",
    "df[sensor_cols] = df[sensor_cols].fillna(method='ffill')\n",
    "df[sensor_cols] = df[sensor_cols].fillna(method='bfill')\n",
    "y=df[\"machine_status\"]\n",
    "X=df.drop(columns=['machine_status'])\n",
    "X_train, X_test, y_train, y_test = train_test_split(X, y, test_size=0.93, shuffle=False)\n",
    "scaler=MinMaxScaler()\n",
    "scaler.fit(X_train)\n",
    "X_train=scaler.transform(X_train)\n",
    "X_test=scaler.transform(X_test)\n",
    "X_train = np.array(X_train)\n",
    "X_test = np.array(X_test)\n",
    "y_train = np.array(y_train)\n",
    "y_test = np.array(y_test)"
   ]
  },
  {
   "cell_type": "code",
   "execution_count": 128,
   "metadata": {},
   "outputs": [
    {
     "name": "stdout",
     "output_type": "stream",
     "text": [
      "Saved 7 broken samples to 'broken_samples.csv'\n",
      "Saved 7 pre-broken samples to 'notbroken.csv'\n"
     ]
    }
   ],
   "source": [
    "def save_broken_samples(X, y, broken_file=\"broken_samples.csv\", prebroken_file=\"prebroken_samples.csv\", offset=100):\n",
    "    X = np.array(X)\n",
    "    y = np.array(y)\n",
    "\n",
    "    broken_indices = np.where(y == \"BROKEN\")[0]\n",
    "\n",
    "    broken_samples = []\n",
    "    prebroken_samples = []\n",
    "\n",
    "    for idx in broken_indices:\n",
    "        broken_samples.append(X[idx])\n",
    "        if idx >= offset:\n",
    "            prebroken_samples.append(X[idx - offset])\n",
    "\n",
    "    # Save broken samples\n",
    "    pd.DataFrame(broken_samples).to_csv(broken_file, index=False)\n",
    "    print(f\"Saved {len(broken_samples)} broken samples to '{broken_file}'\")\n",
    "\n",
    "    # Save pre-broken samples\n",
    "    pd.DataFrame(prebroken_samples).to_csv(prebroken_file, index=False)\n",
    "    print(f\"Saved {len(prebroken_samples)} pre-broken samples to '{prebroken_file}'\")\n",
    "save_broken_samples(X_test, y_test, \"broken_samples.csv\", \"notbroken.csv\")"
   ]
  },
  {
   "cell_type": "code",
   "execution_count": 129,
   "metadata": {},
   "outputs": [],
   "source": [
    "def inject_faults(x, y, fault_fraction=0.1, decrease_fraction=0.3, decrease_value=0.2):\n",
    "    # Create copies to avoid modifying original data\n",
    "    x_fault = x.copy()\n",
    "    y_fault = y.copy()\n",
    "\n",
    "    n_samples, n_features = x_fault.shape\n",
    "\n",
    "    # Determine number of samples to mark as faulty\n",
    "    n_faulty = int(n_samples * fault_fraction)\n",
    "    \n",
    "    # Randomly select indices for the samples that will become faulty\n",
    "    faulty_indices = np.random.choice(n_samples, size=n_faulty, replace=False)\n",
    "\n",
    "    for idx in faulty_indices:\n",
    "        # Mark the sample as faulty in y\n",
    "        y_fault[idx] = \"BROKEN\"\n",
    "        \n",
    "        # Determine the number of features to decrease; ensure at least one feature is selected\n",
    "        n_decrease = max(1, int(np.ceil(n_features * decrease_fraction)))\n",
    "        \n",
    "        # Randomly select feature indices in this sample\n",
    "        feature_indices = np.random.choice(n_features, size=n_decrease, replace=False)\n",
    "        \n",
    "        # Apply a 20% decrease on the selected features\n",
    "        x_fault[idx, feature_indices] *= (1 - decrease_value)\n",
    "    \n",
    "    return x_fault, y_fault\n",
    "\n",
    "X_train, y_train = inject_faults(X_train, y_train, fault_fraction=0.05, decrease_fraction=0.3)\n"
   ]
  },
  {
   "cell_type": "code",
   "execution_count": 130,
   "metadata": {},
   "outputs": [],
   "source": [
    "def extend_fault_labels(y, n_before=20):\n",
    "    y_extended = list(y)\n",
    "    for i, label in enumerate(y):\n",
    "        if label == 'BROKEN':\n",
    "            start_idx = max(0, i - n_before)\n",
    "            for j in range(start_idx, i):\n",
    "                y_extended[j] = 'BROKEN'\n",
    "    return np.array(y_extended)\n",
    "\n",
    "y_train_extended = extend_fault_labels(y_train, n_before=0)\n",
    "y_test_extended  = extend_fault_labels(y_test, n_before=0)\n",
    "\n",
    "def binary_label(y):\n",
    "    return np.array([1 if label == 'BROKEN' else 0 for label in y])\n",
    "y_train_bin = binary_label(y_train_extended)\n",
    "y_test_bin  = binary_label(y_test_extended)"
   ]
  },
  {
   "cell_type": "code",
   "execution_count": 131,
   "metadata": {},
   "outputs": [
    {
     "name": "stdout",
     "output_type": "stream",
     "text": [
      "[0 1]\n",
      "Epoch 1/20\n"
     ]
    },
    {
     "name": "stderr",
     "output_type": "stream",
     "text": [
      "/home/henrik/anaconda3/envs/py310/lib/python3.10/site-packages/keras/src/layers/core/dense.py:87: UserWarning: Do not pass an `input_shape`/`input_dim` argument to a layer. When using Sequential models, prefer using an `Input(shape)` object as the first layer in the model instead.\n",
      "  super().__init__(activity_regularizer=activity_regularizer, **kwargs)\n"
     ]
    },
    {
     "name": "stdout",
     "output_type": "stream",
     "text": [
      "\u001b[1m121/121\u001b[0m \u001b[32m━━━━━━━━━━━━━━━━━━━━\u001b[0m\u001b[37m\u001b[0m \u001b[1m4s\u001b[0m 19ms/step - accuracy: 0.9522 - loss: 0.2743 - val_accuracy: 1.0000 - val_loss: 0.0449\n",
      "Epoch 2/20\n",
      "\u001b[1m121/121\u001b[0m \u001b[32m━━━━━━━━━━━━━━━━━━━━\u001b[0m\u001b[37m\u001b[0m \u001b[1m2s\u001b[0m 18ms/step - accuracy: 0.9493 - loss: 0.1929 - val_accuracy: 1.0000 - val_loss: 0.0538\n",
      "Epoch 3/20\n",
      "\u001b[1m121/121\u001b[0m \u001b[32m━━━━━━━━━━━━━━━━━━━━\u001b[0m\u001b[37m\u001b[0m \u001b[1m2s\u001b[0m 17ms/step - accuracy: 0.9527 - loss: 0.1838 - val_accuracy: 1.0000 - val_loss: 0.0418\n",
      "Epoch 4/20\n",
      "\u001b[1m121/121\u001b[0m \u001b[32m━━━━━━━━━━━━━━━━━━━━\u001b[0m\u001b[37m\u001b[0m \u001b[1m2s\u001b[0m 17ms/step - accuracy: 0.9522 - loss: 0.1847 - val_accuracy: 1.0000 - val_loss: 0.0554\n",
      "Epoch 5/20\n",
      "\u001b[1m121/121\u001b[0m \u001b[32m━━━━━━━━━━━━━━━━━━━━\u001b[0m\u001b[37m\u001b[0m \u001b[1m2s\u001b[0m 17ms/step - accuracy: 0.9497 - loss: 0.1911 - val_accuracy: 1.0000 - val_loss: 0.0566\n",
      "Epoch 6/20\n",
      "\u001b[1m121/121\u001b[0m \u001b[32m━━━━━━━━━━━━━━━━━━━━\u001b[0m\u001b[37m\u001b[0m \u001b[1m2s\u001b[0m 19ms/step - accuracy: 0.9490 - loss: 0.1930 - val_accuracy: 1.0000 - val_loss: 0.0498\n",
      "Epoch 7/20\n",
      "\u001b[1m121/121\u001b[0m \u001b[32m━━━━━━━━━━━━━━━━━━━━\u001b[0m\u001b[37m\u001b[0m \u001b[1m2s\u001b[0m 16ms/step - accuracy: 0.9479 - loss: 0.1947 - val_accuracy: 0.9997 - val_loss: 0.0519\n",
      "Epoch 8/20\n",
      "\u001b[1m121/121\u001b[0m \u001b[32m━━━━━━━━━━━━━━━━━━━━\u001b[0m\u001b[37m\u001b[0m \u001b[1m2s\u001b[0m 19ms/step - accuracy: 0.9511 - loss: 0.1846 - val_accuracy: 0.9996 - val_loss: 0.0555\n",
      "Epoch 9/20\n",
      "\u001b[1m121/121\u001b[0m \u001b[32m━━━━━━━━━━━━━━━━━━━━\u001b[0m\u001b[37m\u001b[0m \u001b[1m2s\u001b[0m 18ms/step - accuracy: 0.9500 - loss: 0.1869 - val_accuracy: 0.9996 - val_loss: 0.0454\n",
      "Epoch 10/20\n",
      "\u001b[1m121/121\u001b[0m \u001b[32m━━━━━━━━━━━━━━━━━━━━\u001b[0m\u001b[37m\u001b[0m \u001b[1m2s\u001b[0m 17ms/step - accuracy: 0.9501 - loss: 0.1851 - val_accuracy: 0.9996 - val_loss: 0.0431\n",
      "Epoch 11/20\n",
      "\u001b[1m121/121\u001b[0m \u001b[32m━━━━━━━━━━━━━━━━━━━━\u001b[0m\u001b[37m\u001b[0m \u001b[1m2s\u001b[0m 17ms/step - accuracy: 0.9478 - loss: 0.1930 - val_accuracy: 0.9995 - val_loss: 0.0415\n",
      "Epoch 12/20\n",
      "\u001b[1m121/121\u001b[0m \u001b[32m━━━━━━━━━━━━━━━━━━━━\u001b[0m\u001b[37m\u001b[0m \u001b[1m2s\u001b[0m 17ms/step - accuracy: 0.9489 - loss: 0.1869 - val_accuracy: 0.9991 - val_loss: 0.0363\n",
      "Epoch 13/20\n",
      "\u001b[1m121/121\u001b[0m \u001b[32m━━━━━━━━━━━━━━━━━━━━\u001b[0m\u001b[37m\u001b[0m \u001b[1m2s\u001b[0m 17ms/step - accuracy: 0.9466 - loss: 0.1891 - val_accuracy: 0.9982 - val_loss: 0.0508\n",
      "Epoch 14/20\n",
      "\u001b[1m121/121\u001b[0m \u001b[32m━━━━━━━━━━━━━━━━━━━━\u001b[0m\u001b[37m\u001b[0m \u001b[1m2s\u001b[0m 17ms/step - accuracy: 0.9508 - loss: 0.1802 - val_accuracy: 0.9951 - val_loss: 0.0509\n",
      "Epoch 15/20\n",
      "\u001b[1m121/121\u001b[0m \u001b[32m━━━━━━━━━━━━━━━━━━━━\u001b[0m\u001b[37m\u001b[0m \u001b[1m2s\u001b[0m 17ms/step - accuracy: 0.9499 - loss: 0.1773 - val_accuracy: 0.9941 - val_loss: 0.0381\n",
      "Epoch 16/20\n",
      "\u001b[1m121/121\u001b[0m \u001b[32m━━━━━━━━━━━━━━━━━━━━\u001b[0m\u001b[37m\u001b[0m \u001b[1m2s\u001b[0m 17ms/step - accuracy: 0.9480 - loss: 0.1778 - val_accuracy: 0.9938 - val_loss: 0.0330\n",
      "Epoch 17/20\n",
      "\u001b[1m121/121\u001b[0m \u001b[32m━━━━━━━━━━━━━━━━━━━━\u001b[0m\u001b[37m\u001b[0m \u001b[1m2s\u001b[0m 17ms/step - accuracy: 0.9506 - loss: 0.1634 - val_accuracy: 0.9855 - val_loss: 0.0508\n",
      "Epoch 18/20\n",
      "\u001b[1m121/121\u001b[0m \u001b[32m━━━━━━━━━━━━━━━━━━━━\u001b[0m\u001b[37m\u001b[0m \u001b[1m2s\u001b[0m 17ms/step - accuracy: 0.9518 - loss: 0.1484 - val_accuracy: 0.9742 - val_loss: 0.0674\n",
      "Epoch 19/20\n",
      "\u001b[1m121/121\u001b[0m \u001b[32m━━━━━━━━━━━━━━━━━━━━\u001b[0m\u001b[37m\u001b[0m \u001b[1m2s\u001b[0m 17ms/step - accuracy: 0.9529 - loss: 0.1389 - val_accuracy: 0.9618 - val_loss: 0.1016\n",
      "Epoch 20/20\n",
      "\u001b[1m121/121\u001b[0m \u001b[32m━━━━━━━━━━━━━━━━━━━━\u001b[0m\u001b[37m\u001b[0m \u001b[1m2s\u001b[0m 17ms/step - accuracy: 0.9573 - loss: 0.1226 - val_accuracy: 0.9626 - val_loss: 0.1064\n"
     ]
    }
   ],
   "source": [
    "model = Sequential([\n",
    "    Dense(64, activation='relu', input_shape=(50,)),\n",
    "    Dense(64, activation='relu'),\n",
    "    Dense(32, activation='relu'),\n",
    "    Dense(1, activation='sigmoid')\n",
    "])\n",
    "\n",
    "model.compile(optimizer='adam', loss='binary_crossentropy', metrics=['accuracy'])\n",
    "\n",
    "print(np.unique(y_train_bin))\n",
    "history = model.fit(X_train, y_train_bin, epochs=20, batch_size=128, validation_data=(X_test, y_test_bin))\n",
    "\n",
    "#loss, accuracy = model.evaluate(X_test, y_test_bin)\n",
    "#print(\"Test Loss:\", loss)\n",
    "#print(\"Test Accuracy:\", accuracy)"
   ]
  },
  {
   "cell_type": "code",
   "execution_count": 132,
   "metadata": {},
   "outputs": [
    {
     "name": "stdout",
     "output_type": "stream",
     "text": [
      "\u001b[1m6404/6404\u001b[0m \u001b[32m━━━━━━━━━━━━━━━━━━━━\u001b[0m\u001b[37m\u001b[0m \u001b[1m5s\u001b[0m 801us/step\n"
     ]
    },
    {
     "data": {
      "image/png": "[encoded data removed]",
      "text/plain": [
       "<Figure size 600x400 with 2 Axes>"
      ]
     },
     "metadata": {},
     "output_type": "display_data"
    }
   ],
   "source": [
    "y_pred_prob = model.predict(X_test)\n",
    "y_pred = (y_pred_prob >= 0.5).astype(int)\n",
    "\n",
    "cm = confusion_matrix(y_test_bin, y_pred)\n",
    "\n",
    "plt.figure(figsize=(6, 4))\n",
    "sns.heatmap(cm, annot=True, fmt='d', cmap='Blues', \n",
    "            xticklabels=['Not Faulty', 'Faulty'], yticklabels=['Not Faulty', 'Faulty'])\n",
    "plt.xlabel('Predicted')\n",
    "plt.ylabel('Actual')\n",
    "plt.title('Confusion Matrix Heatmap')\n",
    "plt.gca().invert_yaxis()\n",
    "plt.show()"
   ]
  },
  {
   "cell_type": "code",
   "execution_count": 134,
   "metadata": {},
   "outputs": [
    {
     "name": "stdout",
     "output_type": "stream",
     "text": [
      "Indexes of real faults in the test set:\n",
      "[  1733   9088  53896  62368 112618 125709 151018]\n",
      "\n",
      "Indexes of predicted faults:\n",
      "[   325    326   1725 ... 204231 204232 204233]\n",
      "Match found: [112618]\n"
     ]
    }
   ],
   "source": [
    "real_fault_indexes = np.where(y_test_bin == 1)[0]\n",
    "predicted_fault_indexes = np.where(y_pred == 1)[0]\n",
    "print(\"Indexes of real faults in the test set:\")\n",
    "print(real_fault_indexes)\n",
    "print(\"\\nIndexes of predicted faults:\")\n",
    "print(predicted_fault_indexes)\n",
    "\n",
    "common = np.intersect1d(real_fault_indexes, predicted_fault_indexes)\n",
    "\n",
    "# Check if any match exists\n",
    "if common.size > 0:\n",
    "    print(\"Match found:\", common)\n",
    "else:\n",
    "    print(\"No matches.\")"
   ]
  }
 ],
 "metadata": {
  "kernelspec": {
   "display_name": "py310",
   "language": "python",
   "name": "python3"
  },
  "language_info": {
   "codemirror_mode": {
    "name": "ipython",
    "version": 3
   },
   "file_extension": ".py",
   "mimetype": "text/x-python",
   "name": "python",
   "nbconvert_exporter": "python",
   "pygments_lexer": "ipython3",
   "version": "3.10.16"
  }
 },
 "nbformat": 4,
 "nbformat_minor": 2
}
